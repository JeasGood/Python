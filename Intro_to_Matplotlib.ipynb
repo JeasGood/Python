
    "# Завдання\n",
    "## 1. Створити Subplot із  4 графіків сінусоїди з різними частотами\n",
    "\n",
    "1.1. Сформувати діапазон функції від 0 до 2 з кроком 0.01"
   ]
  },
  {
   "cell_type": "code",
   "execution_count": null,
   "metadata": {},
   "outputs": [],
   "source": [
    "t = np.arange(***)"
   ]
  },
  {
   "cell_type": "markdown",
   "metadata": {},
   "source": [
    "1.2 Сформувати частоти сінусоїди"
   ]
  },
  {
   "cell_type": "code",
   "execution_count": null,
   "metadata": {},
   "outputs": [],
   "source": [
    "s1 = np.sin(***)\n",
    "s2 = np.sin(***)\n",
    "s3 = np.sin(***)\n",
    "s4 = np.sin(***)"
   ]
  },
  {
   "cell_type": "markdown",
   "metadata": {},
   "source": [
    "1.3 Надрукувати графіки"
   ]
  },
  {
   "cell_type": "code",
   "execution_count": null,
   "metadata": {},
   "outputs": [],
   "source": [
    "plt.figure(figsize=(10,10))\n",
    "ax1 = ***\n",
    "ax1.plot(t, s1, c='r',linewidth=4.0)\n",
    "ax1.set(***)\n",
    "ax1.grid()\n",
    "\n",
    "ax2 = ***\n",
    "ax2.plot(t, s2, c='r',linewidth=4.0)\n",
    "ax2.set(***)\n",
    "ax2.grid()\n",
    "\n",
    "ax3 = ***\n",
    "ax3.plot(t, s3, c='r',linewidth=4.0)\n",
    "ax3.set(***)\n",
    "ax3.grid()\n",
    "\n",
    "ax4 = ***\n",
    "ax4.plot(t, s4, c='r',linewidth=4.0)\n",
    "ax4.set(***)\n",
    "ax4.grid()\n",
    "\n",
    "plt.show()"
   ]
  }
 ],
 "metadata": {
  "kernelspec": {
   "display_name": "Python 3",
   "language": "python",
   "name": "python3"
  },
  "language_info": {
   "codemirror_mode": {
    "name": "ipython",
    "version": 3
   },
   "file_extension": ".py",
   "mimetype": "text/x-python",
   "name": "python",
   "nbconvert_exporter": "python",
   "pygments_lexer": "ipython3",
   "version": "3.7.3"
  }
 },
 "nbformat": 4,
 "nbformat_minor": 2
}
